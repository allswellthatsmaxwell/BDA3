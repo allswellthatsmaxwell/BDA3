{
 "cells": [
  {
   "cell_type": "code",
   "execution_count": 7,
   "id": "71e33ecd-4003-4109-8d65-98ab20d6db80",
   "metadata": {},
   "outputs": [],
   "source": [
    "%load_ext autoreload\n",
    "%autoreload 2"
   ]
  },
  {
   "cell_type": "code",
   "execution_count": 1,
   "id": "c8fac6f4-84fd-467c-94c3-076c1749a4c2",
   "metadata": {},
   "outputs": [],
   "source": [
    "from scipy.stats import poisson\n",
    "poisson(10).rvs(100)"
   ]
  },
  {
   "cell_type": "code",
   "execution_count": 8,
   "id": "ac3aafdc-31a0-4bab-bf72-8a1699891f05",
   "metadata": {},
   "outputs": [],
   "source": [
    "import clinic as cl"
   ]
  },
  {
   "cell_type": "code",
   "execution_count": 16,
   "id": "3ae112a6-015f-460a-b8e3-e2b6e7e084ac",
   "metadata": {},
   "outputs": [],
   "source": [
    "simulation = cl.Simulation()"
   ]
  },
  {
   "cell_type": "code",
   "execution_count": 18,
   "id": "888c69b2-3bca-44bf-82d1-e5ea3a1f353b",
   "metadata": {},
   "outputs": [],
   "source": [
    "simulation.run()"
   ]
  },
  {
   "cell_type": "code",
   "execution_count": null,
   "id": "ad25c25f-3c66-42a9-bc7c-7f5c2d5ca77f",
   "metadata": {},
   "outputs": [],
   "source": []
  }
 ],
 "metadata": {
  "kernelspec": {
   "display_name": "Python 3 (ipykernel)",
   "language": "python",
   "name": "python3"
  },
  "language_info": {
   "codemirror_mode": {
    "name": "ipython",
    "version": 3
   },
   "file_extension": ".py",
   "mimetype": "text/x-python",
   "name": "python",
   "nbconvert_exporter": "python",
   "pygments_lexer": "ipython3",
   "version": "3.11.6"
  }
 },
 "nbformat": 4,
 "nbformat_minor": 5
}
